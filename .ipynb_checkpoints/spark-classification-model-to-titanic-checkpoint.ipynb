{
 "cells": [
  {
   "cell_type": "markdown",
   "id": "fbb9fea0",
   "metadata": {
    "id": "89410d43"
   },
   "source": [
    "Esse notebook mostra como construir um pipeline completo para classificação usando Spark e a base de dados do titanic."
   ]
  },
  {
   "cell_type": "code",
   "execution_count": 30,
   "id": "26f42e8b",
   "metadata": {
    "colab": {
     "base_uri": "https://localhost:8080/",
     "height": 266
    },
    "execution": {
     "iopub.execute_input": "2023-09-15T19:36:49.857545Z",
     "iopub.status.busy": "2023-09-15T19:36:49.857239Z",
     "iopub.status.idle": "2023-09-15T19:36:59.129298Z",
     "shell.execute_reply": "2023-09-15T19:36:59.128413Z",
     "shell.execute_reply.started": "2023-09-15T19:36:49.857522Z"
    },
    "id": "677842c5",
    "outputId": "4de1950b-2a1f-490d-d3f9-2ea134fad443"
   },
   "outputs": [
    {
     "name": "stdout",
     "output_type": "stream",
     "text": [
      "Requirement already satisfied: pyspark in /opt/conda/lib/python3.10/site-packages (3.4.1)\n",
      "Requirement already satisfied: py4j==0.10.9.7 in /opt/conda/lib/python3.10/site-packages (from pyspark) (0.10.9.7)\n"
     ]
    }
   ],
   "source": [
    "! pip install pyspark"
   ]
  },
  {
   "cell_type": "markdown",
   "id": "d179f30e",
   "metadata": {
    "id": "QDV-Y5p9eHKv"
   },
   "source": [
    "# Iniciar Sessão Spark"
   ]
  },
  {
   "cell_type": "code",
   "execution_count": 31,
   "id": "9d451628",
   "metadata": {
    "colab": {
     "base_uri": "https://localhost:8080/",
     "height": 37
    },
    "execution": {
     "iopub.execute_input": "2023-09-15T19:36:59.131253Z",
     "iopub.status.busy": "2023-09-15T19:36:59.130953Z",
     "iopub.status.idle": "2023-09-15T19:36:59.141711Z",
     "shell.execute_reply": "2023-09-15T19:36:59.140567Z",
     "shell.execute_reply.started": "2023-09-15T19:36:59.131229Z"
    },
    "id": "hF6GtJxTdnnQ",
    "outputId": "445c5bc8-ec83-475c-d1d1-7fe3068a31f8"
   },
   "outputs": [
    {
     "data": {
      "text/plain": [
       "'3.4.1'"
      ]
     },
     "execution_count": 31,
     "metadata": {},
     "output_type": "execute_result"
    }
   ],
   "source": [
    "from pyspark.sql import SparkSession\n",
    "\n",
    "spark = SparkSession \\\n",
    "        .builder \\\n",
    "        .appName(\"Titanic-ML\") \\\n",
    "        .getOrCreate()\n",
    "\n",
    "spark.version"
   ]
  },
  {
   "cell_type": "markdown",
   "id": "115b650a",
   "metadata": {
    "id": "7p8Jrs7qdY_o"
   },
   "source": [
    "# Carregar o conjunto de dados\n",
    "\n",
    "Carregamos o conjunto de dados no formato dataframe do spark. A função printSchema() mostra as colunas com seus respectivos tipos de dados."
   ]
  },
  {
   "cell_type": "code",
   "execution_count": 32,
   "id": "f47d75a7",
   "metadata": {
    "colab": {
     "base_uri": "https://localhost:8080/"
    },
    "execution": {
     "iopub.execute_input": "2023-09-15T19:36:59.143627Z",
     "iopub.status.busy": "2023-09-15T19:36:59.143345Z",
     "iopub.status.idle": "2023-09-15T19:36:59.314546Z",
     "shell.execute_reply": "2023-09-15T19:36:59.313804Z",
     "shell.execute_reply.started": "2023-09-15T19:36:59.143601Z"
    },
    "id": "502cdf73",
    "outputId": "41d9c4cc-5b58-4e44-e4bb-639e69861d53"
   },
   "outputs": [
    {
     "name": "stdout",
     "output_type": "stream",
     "text": [
      "root\n",
      " |-- PassengerId: integer (nullable = true)\n",
      " |-- Survived: integer (nullable = true)\n",
      " |-- Pclass: integer (nullable = true)\n",
      " |-- Name: string (nullable = true)\n",
      " |-- Sex: string (nullable = true)\n",
      " |-- Age: double (nullable = true)\n",
      " |-- SibSp: integer (nullable = true)\n",
      " |-- Parch: integer (nullable = true)\n",
      " |-- Ticket: string (nullable = true)\n",
      " |-- Fare: double (nullable = true)\n",
      " |-- Cabin: string (nullable = true)\n",
      " |-- Embarked: string (nullable = true)\n",
      "\n"
     ]
    }
   ],
   "source": [
    "train_df = spark.read.csv('data/train.csv', header='True', inferSchema='True')\n",
    "\n",
    "train_df.printSchema()"
   ]
  },
  {
   "cell_type": "markdown",
   "id": "0e248533",
   "metadata": {},
   "source": [
    "# Checar valores ausentes\n",
    "\n",
    "A maioria dos modelos de aprendizado de máquina não aceitam dados ausentes ou nulos. O código a seguir mostra a quantidade de valores nulos em cada coluna. Temos 177 na coluna 'Age', 687 em 'Cabin' e 2 em 'Embarked'."
   ]
  },
  {
   "cell_type": "code",
   "execution_count": 33,
   "id": "56eb0a9a",
   "metadata": {
    "execution": {
     "iopub.execute_input": "2023-09-15T19:36:59.316564Z",
     "iopub.status.busy": "2023-09-15T19:36:59.316319Z",
     "iopub.status.idle": "2023-09-15T19:37:00.607521Z",
     "shell.execute_reply": "2023-09-15T19:37:00.606410Z",
     "shell.execute_reply.started": "2023-09-15T19:36:59.316541Z"
    }
   },
   "outputs": [
    {
     "name": "stdout",
     "output_type": "stream",
     "text": [
      "Column 'PassengerId': 0 null values\n",
      "Column 'Survived': 0 null values\n",
      "Column 'Pclass': 0 null values\n",
      "Column 'Name': 0 null values\n",
      "Column 'Sex': 0 null values\n",
      "Column 'Age': 177 null values\n",
      "Column 'SibSp': 0 null values\n",
      "Column 'Parch': 0 null values\n",
      "Column 'Ticket': 0 null values\n",
      "Column 'Fare': 0 null values\n",
      "Column 'Cabin': 687 null values\n",
      "Column 'Embarked': 2 null values\n"
     ]
    }
   ],
   "source": [
    "from pyspark.sql.functions import col\n",
    "\n",
    "# Iterate through the columns and count the null values\n",
    "null_counts = []\n",
    "for column in train_df.columns:\n",
    "    null_count = train_df.filter(col(column).isNull()).count()\n",
    "    null_counts.append((column, null_count))\n",
    "\n",
    "# Display the columns and their respective null counts\n",
    "for column, count in null_counts:\n",
    "    print(f\"Column '{column}': {count} null values\")"
   ]
  },
  {
   "cell_type": "markdown",
   "id": "bfa2976e",
   "metadata": {
    "id": "Cx5nAxzHesfE"
   },
   "source": [
    "# Função StringIndexer\n",
    "\n",
    "A função StringIndexer no Apache Spark é usada para converter colunas de strings (categorias) em números inteiros.\n",
    "\n",
    "No código abaixo a coluna \"SexIndexer\" contém o mapeamento das categoriasda coluna \"Sex\" (\"male\" e \"female\") para os número inteiros (0, 1)."
   ]
  },
  {
   "cell_type": "code",
   "execution_count": 34,
   "id": "0c5c758f",
   "metadata": {
    "colab": {
     "base_uri": "https://localhost:8080/"
    },
    "execution": {
     "iopub.execute_input": "2023-09-15T19:37:00.610047Z",
     "iopub.status.busy": "2023-09-15T19:37:00.609730Z",
     "iopub.status.idle": "2023-09-15T19:37:00.898071Z",
     "shell.execute_reply": "2023-09-15T19:37:00.897177Z",
     "shell.execute_reply.started": "2023-09-15T19:37:00.610020Z"
    },
    "id": "47ed65bd",
    "outputId": "48428f10-de73-4fe3-e15d-507b4776e573"
   },
   "outputs": [
    {
     "name": "stdout",
     "output_type": "stream",
     "text": [
      "+-----------+------+----------+\n",
      "|PassengerId|   Sex|SexIndexer|\n",
      "+-----------+------+----------+\n",
      "|          1|  male|       0.0|\n",
      "|          2|female|       1.0|\n",
      "|          3|female|       1.0|\n",
      "|          4|female|       1.0|\n",
      "|          5|  male|       0.0|\n",
      "|          6|  male|       0.0|\n",
      "|          7|  male|       0.0|\n",
      "|          8|  male|       0.0|\n",
      "|          9|female|       1.0|\n",
      "|         10|female|       1.0|\n",
      "+-----------+------+----------+\n",
      "only showing top 10 rows\n",
      "\n"
     ]
    }
   ],
   "source": [
    "# demostrando o sex_indexer\n",
    "from pyspark.ml.feature import StringIndexer\n",
    "\n",
    "sex_indexer = StringIndexer(inputCol='Sex', outputCol='SexIndexer')\n",
    "sex_indexer.fit(train_df).transform(train_df).select(\"PassengerId\", \"Sex\",\"SexIndexer\").show(10)"
   ]
  },
  {
   "cell_type": "markdown",
   "id": "ea956284",
   "metadata": {},
   "source": [
    "# Função OneHotEncoder"
   ]
  },
  {
   "cell_type": "markdown",
   "id": "22b5c6a5",
   "metadata": {
    "id": "aRFtNQwQgen6"
   },
   "source": [
    "A função OneHotEncoder é usada para converter colunas categóricas em representações binárias (vetores de 0s e 1s) para que possam ser usadas como entradas em algoritmos de aprendizado de máquina que exigem entradas numéricas.\n",
    "\n",
    "O OneHotEncoder funciona criando um conjunto de n-1 colunas binárias, para n categorias diferentes, atribuindo 1 para a categoria correspondente e 0 para as outras.  \n",
    "\n",
    "No código abaixo a coluna \"SexVector\" apresenta 1 para a categoria \"male\" e fazio para \"female\"."
   ]
  },
  {
   "cell_type": "code",
   "execution_count": 35,
   "id": "40c8ac73",
   "metadata": {
    "colab": {
     "base_uri": "https://localhost:8080/"
    },
    "execution": {
     "iopub.execute_input": "2023-09-15T19:37:00.899731Z",
     "iopub.status.busy": "2023-09-15T19:37:00.899419Z",
     "iopub.status.idle": "2023-09-15T19:37:01.188882Z",
     "shell.execute_reply": "2023-09-15T19:37:01.188038Z",
     "shell.execute_reply.started": "2023-09-15T19:37:00.899703Z"
    },
    "id": "7e02367c",
    "outputId": "ebe8bc91-c1ee-4e15-a825-15e834d1feea"
   },
   "outputs": [
    {
     "name": "stdout",
     "output_type": "stream",
     "text": [
      "+-----------+------+-------------+\n",
      "|PassengerId|   Sex|    SexVector|\n",
      "+-----------+------+-------------+\n",
      "|          1|  male|(1,[0],[1.0])|\n",
      "|          2|female|    (1,[],[])|\n",
      "|          3|female|    (1,[],[])|\n",
      "|          4|female|    (1,[],[])|\n",
      "|          5|  male|(1,[0],[1.0])|\n",
      "|          6|  male|(1,[0],[1.0])|\n",
      "|          7|  male|(1,[0],[1.0])|\n",
      "|          8|  male|(1,[0],[1.0])|\n",
      "|          9|female|    (1,[],[])|\n",
      "|         10|female|    (1,[],[])|\n",
      "+-----------+------+-------------+\n",
      "only showing top 10 rows\n",
      "\n"
     ]
    }
   ],
   "source": [
    "# demostrando o sex_encoder\n",
    "from pyspark.ml.feature import OneHotEncoder\n",
    "sex_encoder = OneHotEncoder(inputCol='SexIndexer', outputCol='SexVector')\n",
    "\n",
    "sex_indexer_model = sex_indexer.fit(train_df).transform(train_df)\n",
    "\n",
    "# https://stackoverflow.com/questions/42295001/how-to-interpret-results-of-spark-onehotencoder\n",
    "# primeiro valor: tamanho do vetor\n",
    "# segundo valor: índices dos valores que não são zero\n",
    "# terceiro valor: valores que não são zero\n",
    "sex_encoder.fit(sex_indexer_model).transform(sex_indexer_model).select(\"PassengerId\", \"Sex\",\"SexVector\").show(10)"
   ]
  },
  {
   "cell_type": "markdown",
   "id": "53bb0a0a",
   "metadata": {},
   "source": [
    "# Função Imputer  \n",
    "\n",
    "Tratar dados faltantes é uma das etapas mais importantes do fluxo de desemvolvimento de modelos de aprendizado. Existem diversas estratégias para lidar com dados ausentes, tanto em dados categóricos, quanto dados numéricos. \n",
    "\n",
    "Como vimos, a coluna 'Age' apresenta vários dados ausentes. Como trata-se de uma coluna numérica, uma estratégia possível pode ser imputar os valores faltando com a média de todas as idades."
   ]
  },
  {
   "cell_type": "code",
   "execution_count": 36,
   "id": "48df9578",
   "metadata": {
    "execution": {
     "iopub.execute_input": "2023-09-15T19:37:01.190125Z",
     "iopub.status.busy": "2023-09-15T19:37:01.189809Z",
     "iopub.status.idle": "2023-09-15T19:37:01.269979Z",
     "shell.execute_reply": "2023-09-15T19:37:01.269202Z",
     "shell.execute_reply.started": "2023-09-15T19:37:01.190069Z"
    }
   },
   "outputs": [
    {
     "data": {
      "text/plain": [
       "29.69911764705882"
      ]
     },
     "execution_count": 36,
     "metadata": {},
     "output_type": "execute_result"
    }
   ],
   "source": [
    "# Média das idades \n",
    "mean_age = train_df.agg({'Age': 'mean'}).collect()[0][0]\n",
    "mean_age"
   ]
  },
  {
   "cell_type": "markdown",
   "id": "d7ba8ca7",
   "metadata": {},
   "source": [
    "Podemos fazer esse tratamento diretamente no dataframe, como abaixo."
   ]
  },
  {
   "cell_type": "code",
   "execution_count": 37,
   "id": "3c63aa64",
   "metadata": {
    "execution": {
     "iopub.execute_input": "2023-09-15T19:37:01.272217Z",
     "iopub.status.busy": "2023-09-15T19:37:01.271590Z",
     "iopub.status.idle": "2023-09-15T19:37:01.288663Z",
     "shell.execute_reply": "2023-09-15T19:37:01.287799Z",
     "shell.execute_reply.started": "2023-09-15T19:37:01.272184Z"
    }
   },
   "outputs": [],
   "source": [
    "train_df2 = train_df.fillna(mean_age, subset=['Age'])"
   ]
  },
  {
   "cell_type": "markdown",
   "id": "5758f401",
   "metadata": {},
   "source": [
    "E agora não temos mais dados ausentes na coluna 'Age'"
   ]
  },
  {
   "cell_type": "code",
   "execution_count": 38,
   "id": "c5affeab",
   "metadata": {
    "execution": {
     "iopub.execute_input": "2023-09-15T19:37:01.289847Z",
     "iopub.status.busy": "2023-09-15T19:37:01.289566Z",
     "iopub.status.idle": "2023-09-15T19:37:01.341947Z",
     "shell.execute_reply": "2023-09-15T19:37:01.341165Z",
     "shell.execute_reply.started": "2023-09-15T19:37:01.289821Z"
    }
   },
   "outputs": [
    {
     "data": {
      "text/plain": [
       "0"
      ]
     },
     "execution_count": 38,
     "metadata": {},
     "output_type": "execute_result"
    }
   ],
   "source": [
    "train_df2.filter(col('Age').isNull()).count()"
   ]
  },
  {
   "cell_type": "markdown",
   "id": "af5319f6",
   "metadata": {},
   "source": [
    "No entanto a melhor forma de fazer isso, é com a função Imputer, que faz examente a mesma coisa, mas pode ser incorporada no pipeline, automatizado esse processo."
   ]
  },
  {
   "cell_type": "code",
   "execution_count": 39,
   "id": "a0baabe9",
   "metadata": {
    "execution": {
     "iopub.execute_input": "2023-09-15T19:37:01.349426Z",
     "iopub.status.busy": "2023-09-15T19:37:01.347379Z",
     "iopub.status.idle": "2023-09-15T19:37:01.359406Z",
     "shell.execute_reply": "2023-09-15T19:37:01.358273Z",
     "shell.execute_reply.started": "2023-09-15T19:37:01.349386Z"
    }
   },
   "outputs": [],
   "source": [
    "from pyspark.ml.feature import Imputer  \n",
    "\n",
    "# Definir as colunas de entrada e saída\n",
    "input_cols = [\"Age\"]\n",
    "output_cols = [\"Age\"]\n",
    "\n",
    "# Instanciar a função Imputer com a estratégia média\n",
    "imputer = Imputer(\n",
    "    inputCols=input_cols,\n",
    "    outputCols=output_cols,\n",
    "    strategy=\"mean\"   \n",
    ")"
   ]
  },
  {
   "cell_type": "markdown",
   "id": "3f78d7cc",
   "metadata": {
    "id": "pBft-VE3j3F9"
   },
   "source": [
    "# Função VectorAssembler\n",
    "\n",
    "VectorAssembler é uma função que é usada para combinar várias colunas de um DataFrame em uma única coluna de vetor. Isso é especialmente útil ao trabalhar com algoritmos de aprendizado de máquina que exigem que as entradas sejam representadas como um único vetor, como é o caso de muitos modelos do Spark MLlib.\n",
    "\n",
    "Abaixo é criado o objeto \"assembler\" a partir da combinação das colunas 'Age' e 'SexVector' em uma única coluna chamada \"features\"."
   ]
  },
  {
   "cell_type": "code",
   "execution_count": 40,
   "id": "97a4fecd",
   "metadata": {
    "execution": {
     "iopub.execute_input": "2023-09-15T19:37:01.364059Z",
     "iopub.status.busy": "2023-09-15T19:37:01.362569Z",
     "iopub.status.idle": "2023-09-15T19:37:01.372087Z",
     "shell.execute_reply": "2023-09-15T19:37:01.371406Z",
     "shell.execute_reply.started": "2023-09-15T19:37:01.364032Z"
    },
    "id": "ef8f8785"
   },
   "outputs": [],
   "source": [
    "from pyspark.ml.feature import VectorAssembler\n",
    "\n",
    "assembler = VectorAssembler(inputCols=['Age','SexVector'], outputCol='features')"
   ]
  },
  {
   "cell_type": "markdown",
   "id": "2de09f17",
   "metadata": {
    "id": "iG6EUaZWll8J"
   },
   "source": [
    "# Instanciar um modelo de Árvore de decisão\n",
    "\n",
    "O código abaixo mostra como instanciar o modelo DecisionTreeClassifier do Spark MLlib para criar um modelo de árvore de decisão para classificação. Este modelo será treinado para prever a coluna \"Survived\" (rótulos) com base nas características (features) fornecidas na coluna \"features\"."
   ]
  },
  {
   "cell_type": "code",
   "execution_count": 41,
   "id": "2e2c3c7f",
   "metadata": {
    "execution": {
     "iopub.execute_input": "2023-09-15T19:37:01.376415Z",
     "iopub.status.busy": "2023-09-15T19:37:01.375256Z",
     "iopub.status.idle": "2023-09-15T19:37:01.389178Z",
     "shell.execute_reply": "2023-09-15T19:37:01.388176Z",
     "shell.execute_reply.started": "2023-09-15T19:37:01.376386Z"
    },
    "id": "09e22b83"
   },
   "outputs": [],
   "source": [
    "from pyspark.ml.classification import DecisionTreeClassifier\n",
    "\n",
    "classifier = DecisionTreeClassifier(labelCol='Survived', featuresCol='features')"
   ]
  },
  {
   "cell_type": "markdown",
   "id": "da7b34e0",
   "metadata": {
    "id": "lLM7mptJm8yA"
   },
   "source": [
    "# Criar um Pipeline\n",
    "\n",
    "Um pipeline é uma sequência de estágios (transformações e modelos) usados para processar dados e executar tarefas em fluxo contínuo.\n",
    "\n",
    "O Pipeline abaixo tem 5 estágios: os estágios de StringIndexer (sex_indexer) e  OneHotEncoder (sex_encoder) para a coluna Sex; o estágio imputer, para lidar com dados ausentes; o \"assembler\", que é o estágio usado para criar uma única coluna de características (features) a partir de várias colunas no DataFrame; e \"classifier\" que é o estágio que contém o modelo, no caso DecisionTreeClassifier."
   ]
  },
  {
   "cell_type": "code",
   "execution_count": 42,
   "id": "f922bdc1",
   "metadata": {
    "execution": {
     "iopub.execute_input": "2023-09-15T19:37:01.391220Z",
     "iopub.status.busy": "2023-09-15T19:37:01.390345Z",
     "iopub.status.idle": "2023-09-15T19:37:01.395256Z",
     "shell.execute_reply": "2023-09-15T19:37:01.394565Z",
     "shell.execute_reply.started": "2023-09-15T19:37:01.391193Z"
    },
    "id": "eb650f0b"
   },
   "outputs": [],
   "source": [
    "from pyspark.ml import Pipeline\n",
    "\n",
    "pipeline = Pipeline(stages=[sex_indexer, sex_encoder, imputer, assembler, classifier])\n"
   ]
  },
  {
   "cell_type": "markdown",
   "id": "4c38987b",
   "metadata": {
    "id": "k1t_oZi4o3tG"
   },
   "source": [
    "# Separar os dados em treinamento e teste\n",
    "\n",
    "A função randomSplit é usada para dividir um DataFrame em múltiplos DataFrames menores com base em proporções especificadas. Cada DataFrame resultante conterá uma parte dos dados originais e a divisão é feita aleatoriamente.\n",
    "\n",
    "Nesse caso, vamos dividir o DataFrame em dois subconjuntos, um para treinamento e outro para teste, com as proporções [0.7, 0.3]. Ou seja, dividiremos o DataFrame original em dois DataFrames, um com aproximadamente 70%  dos dados (treinamento) e outro com aproximadamente 30% dos dados (teste)."
   ]
  },
  {
   "cell_type": "code",
   "execution_count": 43,
   "id": "e47de2fe",
   "metadata": {
    "execution": {
     "iopub.execute_input": "2023-09-15T19:37:01.396925Z",
     "iopub.status.busy": "2023-09-15T19:37:01.396150Z",
     "iopub.status.idle": "2023-09-15T19:37:01.414303Z",
     "shell.execute_reply": "2023-09-15T19:37:01.413135Z",
     "shell.execute_reply.started": "2023-09-15T19:37:01.396900Z"
    },
    "id": "73bb9205"
   },
   "outputs": [],
   "source": [
    "train_data, test_data = train_df.randomSplit([0.7, 0.3])"
   ]
  },
  {
   "cell_type": "markdown",
   "id": "6f0dd5b9",
   "metadata": {
    "id": "nNB-9faJqn90"
   },
   "source": [
    "# Treinar o modelo\n",
    "\n",
    "Para treinar o modelo basta chamar o método fit do Pipeline e usar os dados de treinamentos."
   ]
  },
  {
   "cell_type": "code",
   "execution_count": 44,
   "id": "f04c62e7",
   "metadata": {
    "colab": {
     "base_uri": "https://localhost:8080/",
     "height": 339
    },
    "execution": {
     "iopub.execute_input": "2023-09-15T19:37:01.416393Z",
     "iopub.status.busy": "2023-09-15T19:37:01.415812Z",
     "iopub.status.idle": "2023-09-15T19:37:02.885240Z",
     "shell.execute_reply": "2023-09-15T19:37:02.884562Z",
     "shell.execute_reply.started": "2023-09-15T19:37:01.416363Z"
    },
    "id": "72c9332d",
    "outputId": "dfcd1e22-e885-4338-db83-025d1265ed35"
   },
   "outputs": [
    {
     "name": "stdout",
     "output_type": "stream",
     "text": [
      "CPU times: user 45.2 ms, sys: 13 ms, total: 58.2 ms\n",
      "Wall time: 1.46 s\n"
     ]
    }
   ],
   "source": [
    "%time predict_survived_model = pipeline.fit(train_data)"
   ]
  },
  {
   "cell_type": "markdown",
   "id": "b0377f49",
   "metadata": {},
   "source": [
    "# Fazer predições"
   ]
  },
  {
   "cell_type": "code",
   "execution_count": 45,
   "id": "d7ad50f4",
   "metadata": {
    "execution": {
     "iopub.execute_input": "2023-09-15T19:37:02.889629Z",
     "iopub.status.busy": "2023-09-15T19:37:02.888092Z",
     "iopub.status.idle": "2023-09-15T19:37:03.201059Z",
     "shell.execute_reply": "2023-09-15T19:37:03.200175Z",
     "shell.execute_reply.started": "2023-09-15T19:37:02.889604Z"
    },
    "id": "afcd4bb2"
   },
   "outputs": [
    {
     "name": "stdout",
     "output_type": "stream",
     "text": [
      "+-----------+------------------+------+-------------+----------+--------+\n",
      "|passengerId|               age|   sex|rawPrediction|prediction|Survived|\n",
      "+-----------+------------------+------+-------------+----------+--------+\n",
      "|         10|              14.0|female|  [42.0,96.0]|       1.0|       1|\n",
      "|         11|               4.0|female|    [2.0,6.0]|       1.0|       1|\n",
      "|         26|              38.0|female|   [8.0,36.0]|       1.0|       1|\n",
      "|         27|30.211492842535787|  male| [301.0,65.0]|       0.0|       0|\n",
      "|         30|30.211492842535787|  male| [301.0,65.0]|       0.0|       0|\n",
      "|         31|              40.0|  male| [301.0,65.0]|       0.0|       0|\n",
      "|         32|30.211492842535787|female|  [42.0,96.0]|       1.0|       1|\n",
      "|         41|              40.0|female|   [8.0,36.0]|       1.0|       0|\n",
      "|         45|              19.0|female|  [42.0,96.0]|       1.0|       1|\n",
      "|         48|30.211492842535787|female|  [42.0,96.0]|       1.0|       1|\n",
      "|         52|              21.0|  male| [301.0,65.0]|       0.0|       0|\n",
      "|         58|              28.5|  male| [301.0,65.0]|       0.0|       0|\n",
      "|         64|               4.0|  male|    [5.0,8.0]|       1.0|       0|\n",
      "|         70|              26.0|  male| [301.0,65.0]|       0.0|       0|\n",
      "|         73|              21.0|  male| [301.0,65.0]|       0.0|       0|\n",
      "|         78|30.211492842535787|  male| [301.0,65.0]|       0.0|       0|\n",
      "|         80|              30.0|female|  [42.0,96.0]|       1.0|       1|\n",
      "|         82|              29.0|  male| [301.0,65.0]|       0.0|       1|\n",
      "|         85|              17.0|female|  [42.0,96.0]|       1.0|       1|\n",
      "|         90|              24.0|  male| [301.0,65.0]|       0.0|       0|\n",
      "|         92|              20.0|  male| [301.0,65.0]|       0.0|       0|\n",
      "|         95|              59.0|  male| [301.0,65.0]|       0.0|       0|\n",
      "|         96|30.211492842535787|  male| [301.0,65.0]|       0.0|       0|\n",
      "|         98|              23.0|  male| [301.0,65.0]|       0.0|       1|\n",
      "|        100|              34.0|  male| [301.0,65.0]|       0.0|       0|\n",
      "|        101|              28.0|female|  [42.0,96.0]|       1.0|       0|\n",
      "|        102|30.211492842535787|  male| [301.0,65.0]|       0.0|       0|\n",
      "|        104|              33.0|  male| [301.0,65.0]|       0.0|       0|\n",
      "|        108|30.211492842535787|  male| [301.0,65.0]|       0.0|       1|\n",
      "|        109|              38.0|  male| [301.0,65.0]|       0.0|       0|\n",
      "|        118|              29.0|  male| [301.0,65.0]|       0.0|       0|\n",
      "|        127|30.211492842535787|  male| [301.0,65.0]|       0.0|       0|\n",
      "|        128|              24.0|  male| [301.0,65.0]|       0.0|       1|\n",
      "|        129|30.211492842535787|female|  [42.0,96.0]|       1.0|       1|\n",
      "|        132|              20.0|  male| [301.0,65.0]|       0.0|       0|\n",
      "|        136|              23.0|  male| [301.0,65.0]|       0.0|       0|\n",
      "|        139|              16.0|  male| [301.0,65.0]|       0.0|       0|\n",
      "|        143|              24.0|female|  [42.0,96.0]|       1.0|       1|\n",
      "|        144|              19.0|  male| [301.0,65.0]|       0.0|       0|\n",
      "|        146|              19.0|  male| [301.0,65.0]|       0.0|       0|\n",
      "|        149|              36.5|  male| [301.0,65.0]|       0.0|       0|\n",
      "|        150|              42.0|  male| [301.0,65.0]|       0.0|       0|\n",
      "|        152|              22.0|female|  [42.0,96.0]|       1.0|       1|\n",
      "|        156|              51.0|  male| [301.0,65.0]|       0.0|       0|\n",
      "|        158|              30.0|  male| [301.0,65.0]|       0.0|       0|\n",
      "|        164|              17.0|  male| [301.0,65.0]|       0.0|       0|\n",
      "|        165|               1.0|  male|    [5.0,8.0]|       1.0|       0|\n",
      "|        168|              45.0|female|   [8.0,36.0]|       1.0|       0|\n",
      "|        169|30.211492842535787|  male| [301.0,65.0]|       0.0|       0|\n",
      "|        171|              61.0|  male| [301.0,65.0]|       0.0|       0|\n",
      "+-----------+------------------+------+-------------+----------+--------+\n",
      "only showing top 50 rows\n",
      "\n"
     ]
    }
   ],
   "source": [
    "predictions = predict_survived_model.transform(test_data)\n",
    "predictions.select('passengerId', 'age', 'sex', 'rawPrediction', 'prediction', 'Survived').show(50)"
   ]
  },
  {
   "cell_type": "markdown",
   "id": "39c5a007",
   "metadata": {},
   "source": [
    "# Avaliar o modelo"
   ]
  },
  {
   "cell_type": "code",
   "execution_count": 46,
   "id": "6f55f4c8",
   "metadata": {
    "execution": {
     "iopub.execute_input": "2023-09-15T19:37:03.202342Z",
     "iopub.status.busy": "2023-09-15T19:37:03.202045Z",
     "iopub.status.idle": "2023-09-15T19:37:04.412028Z",
     "shell.execute_reply": "2023-09-15T19:37:04.411167Z",
     "shell.execute_reply.started": "2023-09-15T19:37:03.202315Z"
    }
   },
   "outputs": [
    {
     "name": "stdout",
     "output_type": "stream",
     "text": [
      "+---------+------+\n",
      "|   Metric| Value|\n",
      "+---------+------+\n",
      "| Accuracy|0.8165|\n",
      "|Precision|0.8145|\n",
      "|   Recall|0.8165|\n",
      "| F1 Score| 0.815|\n",
      "|      AUC|0.4972|\n",
      "+---------+------+\n",
      "\n"
     ]
    }
   ],
   "source": [
    "from pyspark.ml.evaluation import MulticlassClassificationEvaluator, BinaryClassificationEvaluator\n",
    "from pyspark.sql import SparkSession, Row\n",
    "\n",
    "# Define evaluation metrics\n",
    "evaluator_acc = MulticlassClassificationEvaluator(labelCol='Survived', predictionCol='prediction', metricName='accuracy')\n",
    "evaluator_precision = MulticlassClassificationEvaluator(labelCol='Survived', predictionCol='prediction', metricName='weightedPrecision')\n",
    "evaluator_recall = MulticlassClassificationEvaluator(labelCol='Survived', predictionCol='prediction', metricName='weightedRecall')\n",
    "evaluator_f1 = MulticlassClassificationEvaluator(labelCol='Survived', predictionCol='prediction', metricName='f1')\n",
    "evaluator_auc = BinaryClassificationEvaluator(labelCol='Survived', rawPredictionCol='rawPrediction', metricName='areaUnderROC')\n",
    "\n",
    "# Calculate the evaluation metrics\n",
    "accuracy = evaluator_acc.evaluate(predictions)\n",
    "precision = evaluator_precision.evaluate(predictions)\n",
    "recall = evaluator_recall.evaluate(predictions)\n",
    "f1 = evaluator_f1.evaluate(predictions)\n",
    "auc = evaluator_auc.evaluate(predictions)\n",
    "\n",
    "# Create a list of rows with the metrics\n",
    "metrics_data = [\n",
    "    Row(Metric=\"Accuracy\", Value=round(accuracy,4)),\n",
    "    Row(Metric=\"Precision\", Value=round(precision,4)),\n",
    "    Row(Metric=\"Recall\", Value=round(recall,4)),\n",
    "    Row(Metric=\"F1 Score\", Value=round(f1,4)),\n",
    "    Row(Metric=\"AUC\", Value=round(auc,4)),\n",
    "]\n",
    "\n",
    "# Create a DataFrame from the list of rows\n",
    "metrics_df = spark.createDataFrame(metrics_data)\n",
    "\n",
    "# Show the DataFrame\n",
    "metrics_df.show()"
   ]
  },
  {
   "cell_type": "markdown",
   "id": "0c461ac4",
   "metadata": {},
   "source": [
    "# Explorar o Pipeline\n",
    "\n",
    "Podemos recuperar os estágios do pipeline chamando o método stages e indicando o indice do estágio de interesse. Por exemplo, chamando o último estágio, recuperamos o modelo. "
   ]
  },
  {
   "cell_type": "code",
   "execution_count": 47,
   "id": "bbe68510",
   "metadata": {
    "execution": {
     "iopub.execute_input": "2023-09-15T19:37:04.414394Z",
     "iopub.status.busy": "2023-09-15T19:37:04.412958Z",
     "iopub.status.idle": "2023-09-15T19:37:04.423598Z",
     "shell.execute_reply": "2023-09-15T19:37:04.422812Z",
     "shell.execute_reply.started": "2023-09-15T19:37:04.414364Z"
    },
    "id": "03b11af2"
   },
   "outputs": [
    {
     "data": {
      "text/plain": [
       "DecisionTreeClassificationModel: uid=DecisionTreeClassifier_f81d13a4a73a, depth=5, numNodes=19, numClasses=2, numFeatures=2"
      ]
     },
     "execution_count": 47,
     "metadata": {},
     "output_type": "execute_result"
    }
   ],
   "source": [
    "decision_tree_model = predict_survived_model.stages[-1]\n",
    "decision_tree_model"
   ]
  },
  {
   "cell_type": "markdown",
   "id": "7ed31915",
   "metadata": {},
   "source": [
    "No segundo estágio recuperamos o OneHotEncoderModel e assim por diante."
   ]
  },
  {
   "cell_type": "code",
   "execution_count": 55,
   "id": "7df82187",
   "metadata": {
    "execution": {
     "iopub.execute_input": "2023-09-15T19:37:35.537567Z",
     "iopub.status.busy": "2023-09-15T19:37:35.537101Z",
     "iopub.status.idle": "2023-09-15T19:37:35.544145Z",
     "shell.execute_reply": "2023-09-15T19:37:35.543291Z",
     "shell.execute_reply.started": "2023-09-15T19:37:35.537541Z"
    }
   },
   "outputs": [
    {
     "data": {
      "text/plain": [
       "OneHotEncoderModel: uid=OneHotEncoder_114cef040893, dropLast=true, handleInvalid=error"
      ]
     },
     "execution_count": 55,
     "metadata": {},
     "output_type": "execute_result"
    }
   ],
   "source": [
    "predict_survived_model.stages[1]"
   ]
  },
  {
   "cell_type": "markdown",
   "id": "03c7649c",
   "metadata": {},
   "source": [
    "Podemos recuperar também a representação de string do modelo de árvore de decisão."
   ]
  },
  {
   "cell_type": "code",
   "execution_count": 48,
   "id": "f52243d5",
   "metadata": {
    "execution": {
     "iopub.execute_input": "2023-09-15T19:37:04.425490Z",
     "iopub.status.busy": "2023-09-15T19:37:04.424648Z",
     "iopub.status.idle": "2023-09-15T19:37:04.438695Z",
     "shell.execute_reply": "2023-09-15T19:37:04.438092Z",
     "shell.execute_reply.started": "2023-09-15T19:37:04.425462Z"
    },
    "id": "19ddd149"
   },
   "outputs": [
    {
     "data": {
      "text/plain": [
       "'DecisionTreeClassificationModel: uid=DecisionTreeClassifier_f81d13a4a73a, depth=5, numNodes=19, numClasses=2, numFeatures=2\\n  If (feature 1 in {1.0})\\n   If (feature 0 <= 10.5)\\n    If (feature 0 <= 4.5)\\n     Predict: 1.0\\n    Else (feature 0 > 4.5)\\n     Predict: 0.0\\n   Else (feature 0 > 10.5)\\n    Predict: 0.0\\n  Else (feature 1 not in {1.0})\\n   If (feature 0 <= 30.75)\\n    If (feature 0 <= 30.355746421267895)\\n     If (feature 0 <= 10.5)\\n      If (feature 0 <= 4.5)\\n       Predict: 1.0\\n      Else (feature 0 > 4.5)\\n       Predict: 0.0\\n     Else (feature 0 > 10.5)\\n      Predict: 1.0\\n    Else (feature 0 > 30.355746421267895)\\n     Predict: 0.0\\n   Else (feature 0 > 30.75)\\n    If (feature 0 <= 36.5)\\n     Predict: 1.0\\n    Else (feature 0 > 36.5)\\n     If (feature 0 <= 37.5)\\n      Predict: 0.0\\n     Else (feature 0 > 37.5)\\n      Predict: 1.0\\n'"
      ]
     },
     "execution_count": 48,
     "metadata": {},
     "output_type": "execute_result"
    }
   ],
   "source": [
    "# Obter a string de depuração do modelo de árvore de decisão\n",
    "dot_data = decision_tree_model.toDebugString\n",
    "dot_data"
   ]
  },
  {
   "cell_type": "markdown",
   "id": "529d0d24",
   "metadata": {},
   "source": [
    "Recuperando o assembler podemos acessar as features usadas na construção dos modelos. "
   ]
  },
  {
   "cell_type": "code",
   "execution_count": 57,
   "id": "3fd5053c",
   "metadata": {
    "execution": {
     "iopub.execute_input": "2023-09-15T19:41:01.390413Z",
     "iopub.status.busy": "2023-09-15T19:41:01.390073Z",
     "iopub.status.idle": "2023-09-15T19:41:01.397278Z",
     "shell.execute_reply": "2023-09-15T19:41:01.396004Z",
     "shell.execute_reply.started": "2023-09-15T19:41:01.390388Z"
    }
   },
   "outputs": [
    {
     "data": {
      "text/plain": [
       "['Age', 'SexVector']"
      ]
     },
     "execution_count": 57,
     "metadata": {},
     "output_type": "execute_result"
    }
   ],
   "source": [
    "assembler = predict_survived_model.stages[-2]\n",
    "assembler.getInputCols()"
   ]
  },
  {
   "cell_type": "markdown",
   "id": "398a295f",
   "metadata": {},
   "source": [
    "# Feature importances\n",
    "\n",
    "Podemos usar o atributo featureImportances para obter as importâncias dos recursos do modelo. As importâncias dos recursos representam a importância relativa de cada recurso no processo de tomada de decisão da árvore. Quanto maior a importância, mais influente será o recurso na realização de previsões."
   ]
  },
  {
   "cell_type": "markdown",
   "id": "08c68fd2",
   "metadata": {},
   "source": [
    "Nesse caso, o artibuto 0 teve uma importância de 14%, enquanto o atributo 1 teve 86% de importância nas decisões do modelo."
   ]
  },
  {
   "cell_type": "code",
   "execution_count": 50,
   "id": "e9bc55c0",
   "metadata": {
    "execution": {
     "iopub.execute_input": "2023-09-15T19:37:04.449429Z",
     "iopub.status.busy": "2023-09-15T19:37:04.449190Z",
     "iopub.status.idle": "2023-09-15T19:37:04.467669Z",
     "shell.execute_reply": "2023-09-15T19:37:04.466805Z",
     "shell.execute_reply.started": "2023-09-15T19:37:04.449408Z"
    },
    "id": "7afb7539"
   },
   "outputs": [
    {
     "data": {
      "text/plain": [
       "SparseVector(2, {0: 0.1423, 1: 0.8577})"
      ]
     },
     "execution_count": 50,
     "metadata": {},
     "output_type": "execute_result"
    }
   ],
   "source": [
    "decision_tree_model.featureImportances"
   ]
  },
  {
   "cell_type": "markdown",
   "id": "61106919",
   "metadata": {},
   "source": [
    "Podemos visualizar os nomes dos atribuitos e suas importâncias. Nesse caso, o atributo 0 é a idade e o 1 o sexo, esse último que exerceu o maior peso nas decisões."
   ]
  },
  {
   "cell_type": "code",
   "execution_count": 51,
   "id": "e2853e19",
   "metadata": {
    "execution": {
     "iopub.execute_input": "2023-09-15T19:37:04.469374Z",
     "iopub.status.busy": "2023-09-15T19:37:04.468879Z",
     "iopub.status.idle": "2023-09-15T19:37:04.478869Z",
     "shell.execute_reply": "2023-09-15T19:37:04.477930Z",
     "shell.execute_reply.started": "2023-09-15T19:37:04.469346Z"
    },
    "id": "a4d9cfd9"
   },
   "outputs": [
    {
     "data": {
      "text/plain": [
       "[('Age', 0.1423290472612345), ('SexVector', 0.8576709527387656)]"
      ]
     },
     "execution_count": 51,
     "metadata": {},
     "output_type": "execute_result"
    }
   ],
   "source": [
    "list(zip(assembler.getInputCols(), decision_tree_model.featureImportances))"
   ]
  },
  {
   "cell_type": "code",
   "execution_count": 59,
   "id": "25e2d561",
   "metadata": {
    "execution": {
     "iopub.execute_input": "2023-09-15T19:48:50.450331Z",
     "iopub.status.busy": "2023-09-15T19:48:50.449948Z",
     "iopub.status.idle": "2023-09-15T19:48:50.635305Z",
     "shell.execute_reply": "2023-09-15T19:48:50.633867Z",
     "shell.execute_reply.started": "2023-09-15T19:48:50.450305Z"
    }
   },
   "outputs": [
    {
     "data": {
      "image/png": "[encoded data removed]",
      "text/plain": [
       "<Figure size 1000x600 with 1 Axes>"
      ]
     },
     "metadata": {},
     "output_type": "display_data"
    }
   ],
   "source": [
    "import matplotlib.pyplot as plt\n",
    "\n",
    "\n",
    "feature_names = assembler.getInputCols()\n",
    "feature_importances = decision_tree_model.featureImportances\n",
    "\n",
    "plt.figure(figsize=(10, 6))\n",
    "plt.barh(range(len(feature_importances)), feature_importances, align=\"center\")\n",
    "plt.yticks(range(len(feature_importances)), feature_names)\n",
    "plt.xlabel(\"Feature Importances\")\n",
    "plt.title(\"Feature Importances of Decision Tree Model\")\n",
    "plt.gca().invert_yaxis()  \n",
    "plt.show()"
   ]
  },
  {
   "cell_type": "markdown",
   "id": "11a39f6c",
   "metadata": {},
   "source": [
    "# Salvar o modelo\n",
    "\n",
    "Podemos salvar o pipeline criado, como a seguir."
   ]
  },
  {
   "cell_type": "code",
   "execution_count": 62,
   "id": "2fb82b11",
   "metadata": {
    "execution": {
     "iopub.execute_input": "2023-09-15T19:51:37.197478Z",
     "iopub.status.busy": "2023-09-15T19:51:37.197086Z",
     "iopub.status.idle": "2023-09-15T19:51:37.687058Z",
     "shell.execute_reply": "2023-09-15T19:51:37.686247Z",
     "shell.execute_reply.started": "2023-09-15T19:51:37.197447Z"
    },
    "id": "f7f1e282"
   },
   "outputs": [],
   "source": [
    "pipeline.write().overwrite().save(\"decisionTreeModel\")"
   ]
  }
 ],
 "metadata": {
  "colab": {
   "provenance": []
  },
  "kernelspec": {
   "display_name": "Python 3 (ipykernel)",
   "language": "python",
   "name": "python3"
  },
  "language_info": {
   "codemirror_mode": {
    "name": "ipython",
    "version": 3
   },
   "file_extension": ".py",
   "mimetype": "text/x-python",
   "name": "python",
   "nbconvert_exporter": "python",
   "pygments_lexer": "ipython3",
   "version": "3.9.12"
  }
 },
 "nbformat": 4,
 "nbformat_minor": 5
}
